{
 "cells": [
  {
   "cell_type": "markdown",
   "metadata": {},
   "source": [
    "# Day 1: Review of Basic Python and Jupyter Notebook for Data Science\n",
    "\n",
    "\n",
    "[Python Cheat Sheet](https://datacamp-community-prod.s3.amazonaws.com/e30fbcd9-f595-4a9f-803d-05ca5bf84612)\n",
    "\n",
    "[Markdown cheat sheet](https://www.markdownguide.org/cheat-sheet/)\n",
    "\n",
    "Special Notes:\n",
    "1. Variable types are Numeric, String, Boolean, Special literal (x=none), literal collection (collection like JSON)\n",
    "2. list starts from 0\n",
    "3. When you set range in a list, the last one doesn't count\n"
   ]
  },
  {
   "cell_type": "code",
   "execution_count": 23,
   "metadata": {},
   "outputs": [
    {
     "name": "stdout",
     "output_type": "stream",
     "text": [
      "[['hallway', 11.25], ['kitchen', 18.0], ['living room', 20.0], ['bedroom', 10.75], ['bathroom', 9.5]]\n"
     ]
    },
    {
     "data": {
      "text/plain": [
       "['kitchen', 18.0]"
      ]
     },
     "execution_count": 23,
     "metadata": {},
     "output_type": "execute_result"
    }
   ],
   "source": [
    "#List\n",
    "hall = 11.25\n",
    "kit = 18.0\n",
    "liv = 20.0\n",
    "bed = 10.75\n",
    "bath = 9.50\n",
    "\n",
    "\n",
    "house = [[\"hallway\", hall],\n",
    "         [\"kitchen\", kit],\n",
    "         [\"living room\", liv],\n",
    "         [\"bedroom\", bed],\n",
    "         [\"bathroom\", bath]]\n",
    "print(house)\n",
    "\n"
   ]
  },
  {
   "cell_type": "code",
   "execution_count": 32,
   "metadata": {},
   "outputs": [
    {
     "data": {
      "text/plain": [
       "['bathroom', 9.5]"
      ]
     },
     "execution_count": 32,
     "metadata": {},
     "output_type": "execute_result"
    }
   ],
   "source": [
    "#Subsetting List: first bracket is choosing which list to choose inside variable house, second is choosing within\n",
    "house[4][:]"
   ]
  },
  {
   "cell_type": "code",
   "execution_count": 39,
   "metadata": {},
   "outputs": [
    {
     "data": {
      "text/plain": [
       "5"
      ]
     },
     "execution_count": 39,
     "metadata": {},
     "output_type": "execute_result"
    }
   ],
   "source": [
    "#Built in Functions\n",
    "list = [1.4231,2.421,3.3245,4,5]\n",
    "\n",
    "max(list) #max function"
   ]
  },
  {
   "cell_type": "code",
   "execution_count": 45,
   "metadata": {},
   "outputs": [
    {
     "data": {
      "text/plain": [
       "1.42"
      ]
     },
     "execution_count": 45,
     "metadata": {},
     "output_type": "execute_result"
    }
   ],
   "source": [
    "round(list[0], 2) #round function"
   ]
  },
  {
   "cell_type": "code",
   "execution_count": 41,
   "metadata": {},
   "outputs": [
    {
     "data": {
      "text/plain": [
       "1"
      ]
     },
     "execution_count": 41,
     "metadata": {},
     "output_type": "execute_result"
    }
   ],
   "source": [
    "round(list[0]) #round up to no decimal point"
   ]
  },
  {
   "cell_type": "code",
   "execution_count": 46,
   "metadata": {},
   "outputs": [
    {
     "data": {
      "text/plain": [
       "5"
      ]
     },
     "execution_count": 46,
     "metadata": {},
     "output_type": "execute_result"
    }
   ],
   "source": [
    "len(list) #getting the length"
   ]
  },
  {
   "cell_type": "markdown",
   "metadata": {},
   "source": [
    "sorted() takes iterable $key$ and $reverse$ as their parameter. If reverse is True, it shows in descending order"
   ]
  },
  {
   "cell_type": "code",
   "execution_count": 51,
   "metadata": {},
   "outputs": [
    {
     "name": "stdout",
     "output_type": "stream",
     "text": [
      "[20.0, 18.0, 11.25, 10.75, 9.5]\n"
     ]
    }
   ],
   "source": [
    "# Sorting List from highest to lowest \n",
    "first = [11.25, 18.0, 20.0]\n",
    "second = [10.75, 9.50]\n",
    "\n",
    "# Paste together first and second: full\n",
    "full = first+second\n",
    "\n",
    "# Sort full in descending order: full_sorted\n",
    "full_sorted = sorted(full, reverse = True)\n",
    "\n",
    "# Print out full_sorted\n",
    "print(full_sorted)"
   ]
  },
  {
   "cell_type": "markdown",
   "metadata": {},
   "source": [
    "Methods are functions that belong to the objects\n",
    "Methods for object types:\n",
    "\n",
    "- str : capitalize(), replace()\n",
    "- float : bit_length(), conjugate()\n",
    "- list : index(), count()  ex) variable.index(\"something\") shows index(position) of something in the list. variable.count(\"something\") counts the number of something in the list"
   ]
  },
  {
   "cell_type": "code",
   "execution_count": 53,
   "metadata": {},
   "outputs": [
    {
     "data": {
      "text/plain": [
       "0"
      ]
     },
     "execution_count": 53,
     "metadata": {},
     "output_type": "execute_result"
    }
   ],
   "source": [
    "#list methods\n",
    "PoS = [\"Sunny\", 1, \"Koby\", 2, \"Josh\", 3]\n",
    "#indexing position (search): Sunny is in index 0\n",
    "PoS.index(\"Sunny\")"
   ]
  },
  {
   "cell_type": "code",
   "execution_count": 56,
   "metadata": {},
   "outputs": [
    {
     "data": {
      "text/plain": [
       "1"
      ]
     },
     "execution_count": 56,
     "metadata": {},
     "output_type": "execute_result"
    }
   ],
   "source": [
    "#counting: Sunny appears once in PoS\n",
    "PoS.count(\"Sunny\")"
   ]
  },
  {
   "cell_type": "code",
   "execution_count": 59,
   "metadata": {},
   "outputs": [
    {
     "name": "stdout",
     "output_type": "stream",
     "text": [
      "[3, 'Josh', 2, 'Koby', 1, 'Sunny']\n"
     ]
    }
   ],
   "source": [
    "#reversing: reversed the list\n",
    "PoS.reverse()\n",
    "print(PoS)"
   ]
  },
  {
   "cell_type": "code",
   "execution_count": 62,
   "metadata": {},
   "outputs": [
    {
     "data": {
      "text/plain": [
       "'Sunny'"
      ]
     },
     "execution_count": 62,
     "metadata": {},
     "output_type": "execute_result"
    }
   ],
   "source": [
    "#string methods\n",
    "myname = 'sunny'\n",
    "#capitalzing the value in string. List is not possible\n",
    "myname.capitalize()"
   ]
  },
  {
   "cell_type": "code",
   "execution_count": 65,
   "metadata": {},
   "outputs": [
    {
     "data": {
      "text/plain": [
       "'sunni'"
      ]
     },
     "execution_count": 65,
     "metadata": {},
     "output_type": "execute_result"
    }
   ],
   "source": [
    "#replacing certain letter in string\n",
    "myname.replace(\"y\", \"i\")"
   ]
  },
  {
   "cell_type": "code",
   "execution_count": 67,
   "metadata": {},
   "outputs": [
    {
     "name": "stdout",
     "output_type": "stream",
     "text": [
      "poolhouse\n",
      "POOLHOUSE\n",
      "3\n"
     ]
    }
   ],
   "source": [
    "# string to experiment with: place\n",
    "place = \"poolhouse\"\n",
    "\n",
    "# Use upper() on place: place_up\n",
    "place_up = place.upper()\n",
    "\n",
    "# Print out place and place_up\n",
    "print(place)\n",
    "print(place_up)\n",
    "\n",
    "# Print out the number of o's in place\n",
    "print(place.count(\"o\"))"
   ]
  },
  {
   "cell_type": "markdown",
   "metadata": {},
   "source": [
    "## Packages\n",
    "\n",
    "Packages are directory of python scripts. Each script is a module, where it specifies functions, methods, and types that will be used to solve a problem. NumPy is widly used for arrays, Matplotlib for data visualization, and scikit-learn for machine learning (tensorflow)\n",
    "\n",
    "\n",
    "$pip$\n",
    "pip stands for package maintenance system for python.  for installation:\n",
    "https://pip.readthedocs.io/en/stable/installing/\n",
    "\n",
    "Once pip is installed, you can use \n",
    "\n",
    "pip3 install whatever\n",
    "\n",
    "to download whatever package you need\n",
    "\n"
   ]
  },
  {
   "cell_type": "code",
   "execution_count": 68,
   "metadata": {},
   "outputs": [
    {
     "data": {
      "text/plain": [
       "array([1, 2, 3])"
      ]
     },
     "execution_count": 68,
     "metadata": {},
     "output_type": "execute_result"
    }
   ],
   "source": [
    "#ways to import library\n",
    "import numpy as np\n",
    "np.array([1,2,3])\n",
    "\n",
    "from numpy import array\n",
    "array([1,2,3]) #but avoid using this because if the line of code is very long, it would be hard to track which library array is imported from."
   ]
  },
  {
   "cell_type": "markdown",
   "metadata": {},
   "source": [
    "## Numpy\n",
    "NumPy array could also be helpful in the situation where you have to do calculation on each elements within the array. In another words, element level calculation is possible. But numpy needs to have same variable type"
   ]
  },
  {
   "cell_type": "code",
   "execution_count": 70,
   "metadata": {},
   "outputs": [
    {
     "name": "stdout",
     "output_type": "stream",
     "text": [
      "[ 41.60171634  57.79195345  64.64128234 387.46914116]\n"
     ]
    }
   ],
   "source": [
    "#numpy example\n",
    "import numpy as np\n",
    "\n",
    "height_in = [52, 42, 43, 15]\n",
    "weight_lb = [160, 145, 170, 124]\n",
    "# Create array from height_in with metric units: np_height_m\n",
    "np_height_m = np.array(height_in) * 0.0254\n",
    "\n",
    "# Create array from weight_lb with metric units: np_weight_kg\n",
    "np_weight_kg = np.array(weight_lb) * 0.453592\n",
    "\n",
    "# Calculate the BMI: bmi\n",
    "bmi = np_weight_kg/np_height_m**2\n",
    "\n",
    "# Print out bmi\n",
    "print(bmi)\n"
   ]
  },
  {
   "cell_type": "markdown",
   "metadata": {},
   "source": [
    "But subsetting works exactly the same as list for NumPy arrays.\n",
    "\n",
    "In NumPy, you can make a matrix using n-D array (1d,2d)\n",
    "When you look at the type() for arrays, it prints \"numpy.ndarray\". this means n-dimentional array in numpy package.\n",
    "So creating two array within an array would make it 2d array, each array is a row.\n",
    "Again, it can only contain one single type\n",
    "\n",
    "Note when subsetting, index starts from 0\n",
    "\n",
    "- np_2d[0][1] : first(0 is the first index) row, second(1 is the second index) column\n",
    "- np_2d[0,1] : same result\n",
    "- Therefore: [row, column]\n",
    "\n",
    "mean, median, corrcoef (to see if two variables are correlated), and std (standard deviation), sum, sort is included in numpy.\n"
   ]
  },
  {
   "cell_type": "code",
   "execution_count": 77,
   "metadata": {},
   "outputs": [
    {
     "data": {
      "text/plain": [
       "38.0"
      ]
     },
     "execution_count": 77,
     "metadata": {},
     "output_type": "execute_result"
    }
   ],
   "source": [
    "height_in = [52, 42, 43, 15]\n",
    "np.mean(height_in)\n",
    "#test out median, corrcoef, std, sum, and sort"
   ]
  }
 ],
 "metadata": {
  "kernelspec": {
   "display_name": "Python 3",
   "language": "python",
   "name": "python3"
  },
  "language_info": {
   "codemirror_mode": {
    "name": "ipython",
    "version": 3
   },
   "file_extension": ".py",
   "mimetype": "text/x-python",
   "name": "python",
   "nbconvert_exporter": "python",
   "pygments_lexer": "ipython3",
   "version": "3.7.1"
  }
 },
 "nbformat": 4,
 "nbformat_minor": 2
}
