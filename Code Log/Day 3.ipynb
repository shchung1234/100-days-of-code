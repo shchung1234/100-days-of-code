{
 "cells": [
  {
   "cell_type": "markdown",
   "metadata": {},
   "source": [
    "# Day 3: Review of Python basics part 3\n",
    "\n",
    "special notes:\n",
    "1. For dictionaries, you can either have '' or \"\" for key.\n",
    "2. in is used as a iterator. a in b means everything in b will be stored into a one by one to execute the next code lines.\n"
   ]
  },
  {
   "cell_type": "markdown",
   "metadata": {},
   "source": [
    "## New Python Datatype: Dictionaries\n",
    "\n",
    "Used when two data are matched without index. Dictionaries consists of key:value pair.\n",
    "JSON file or BSON file (which is used in mongoDB: NoSQL database program) have a very similar format.\n",
    "JSON ex) world = {\"afghanistan\":30.55, \"albania\": 2.77}\n",
    "world[\"afghanistan\"] = 30.55\n",
    "\n",
    "\n",
    "In python, there are mutable objects, which means the value can be changed like list, dictionary, set, byte array, whereas immutable objects cannot be changed like int, float, complext, string, tuple, frozen sets, and bytes.\n",
    "\n",
    "Tuple is like a list in that it can store multiple value, but it is immutable, so you can't change. It is written as () whereas list is mutable with append() or del() and written with [].\n",
    "\n",
    "Note: value can be also key:value pair or list\n",
    "ex) {'key':{'subkey':subvalue}}"
   ]
  },
  {
   "cell_type": "code",
   "execution_count": 11,
   "metadata": {},
   "outputs": [
    {
     "name": "stdout",
     "output_type": "stream",
     "text": [
      "{'Korea': 1, 'Japan': 2, 'China': 1}\n"
     ]
    }
   ],
   "source": [
    "world = {'Korea': 1, 'Japan': 2, 'China':3, 'China':1}\n",
    "#these keys in the dictionary are immutable objects. \n",
    "#Contents of immutable objects can be changed after creation, giving the china:1 as resulting dictionary\n",
    "print(world)"
   ]
  },
  {
   "cell_type": "code",
   "execution_count": 12,
   "metadata": {},
   "outputs": [
    {
     "name": "stdout",
     "output_type": "stream",
     "text": [
      "{'Korea': 1, 'Japan': 2, 'China': 1, 'Taiwan': 4}\n"
     ]
    }
   ],
   "source": [
    "#world = {np.array('Korea', True):3} does not work\n",
    "#does this mean dictionaries cannot take mutable object as key?\n",
    "#adding new key value pair\n",
    "world['Taiwan'] = 4\n",
    "print(world)"
   ]
  },
  {
   "cell_type": "code",
   "execution_count": 13,
   "metadata": {},
   "outputs": [
    {
     "data": {
      "text/plain": [
       "True"
      ]
     },
     "execution_count": 13,
     "metadata": {},
     "output_type": "execute_result"
    }
   ],
   "source": [
    "#to check if key 'Taiwan exists'\n",
    "'Taiwan' in world"
   ]
  },
  {
   "cell_type": "code",
   "execution_count": 14,
   "metadata": {},
   "outputs": [
    {
     "name": "stdout",
     "output_type": "stream",
     "text": [
      "{'Korea': 1, 'Japan': 2, 'China': 3, 'Taiwan': 4}\n"
     ]
    }
   ],
   "source": [
    "#editing value\n",
    "world['China']=3\n",
    "print(world)"
   ]
  },
  {
   "cell_type": "code",
   "execution_count": 15,
   "metadata": {},
   "outputs": [
    {
     "name": "stdout",
     "output_type": "stream",
     "text": [
      "{'Korea': 1, 'Japan': 2, 'China': 3}\n"
     ]
    }
   ],
   "source": [
    "#deleting key value pair\n",
    "del(world['Taiwan'])\n",
    "print(world)"
   ]
  },
  {
   "cell_type": "markdown",
   "metadata": {},
   "source": [
    "## Tabular dataset\n",
    "basically relational data set with tables. rows are called observations and columns are called variables.\n",
    "\n",
    "To create one, we could use 2d numpy array, but they can host variables with same data types.\n",
    "\n",
    "To efficiently manage dataset with different data types, we use Pandas, which was built on numpy package. => dataframes are created\n",
    "\n",
    "\n"
   ]
  },
  {
   "cell_type": "code",
   "execution_count": 17,
   "metadata": {},
   "outputs": [
    {
     "name": "stdout",
     "output_type": "stream",
     "text": [
      "  country   capital  area  population\n",
      "0   Korea     Seoul     1          10\n",
      "1   Japan     Tokyo     2          20\n",
      "2   China  Shanghai     3          60\n",
      "3  Taiwan    Taipei     4          20\n"
     ]
    }
   ],
   "source": [
    "#To manually create a dataframe, start with dictionaries\n",
    "dict = {'country':['Korea', 'Japan', 'China', 'Taiwan'],\n",
    "        'capital':['Seoul', 'Tokyo', 'Shanghai', 'Taipei'],\n",
    "        'area':[1, 2, 3, 4],\n",
    "        'population':[10, 20, 60, 20]}\n",
    "#keys are column labels, values are data,column by column\n",
    "import pandas as pd\n",
    "#pandas are loaded for creating dataframe or loading dataframe\n",
    "brics = pd.DataFrame(dict)\n",
    "print(brics)"
   ]
  },
  {
   "cell_type": "code",
   "execution_count": 19,
   "metadata": {},
   "outputs": [
    {
     "name": "stdout",
     "output_type": "stream",
     "text": [
      "    country   capital  area  population\n",
      "KR    Korea     Seoul     1          10\n",
      "JPN   Japan     Tokyo     2          20\n",
      "CHN   China  Shanghai     3          60\n",
      "TP   Taiwan    Taipei     4          20\n"
     ]
    }
   ],
   "source": [
    "brics.index = ['KR', 'JPN', 'CHN', 'TP']\n",
    "print(brics)\n",
    "#But when you load datafile, which is mostly the case, you write\n",
    "#df = pd.read_csv(\"path/to/brics.csv\")\n",
    "#if the first column contains row index, you write\n",
    "#df = pd.read_csv(\"path/to/brics.csv\", index_col = 0)"
   ]
  },
  {
   "cell_type": "code",
   "execution_count": 21,
   "metadata": {},
   "outputs": [
    {
     "data": {
      "text/html": [
       "<div>\n",
       "<style scoped>\n",
       "    .dataframe tbody tr th:only-of-type {\n",
       "        vertical-align: middle;\n",
       "    }\n",
       "\n",
       "    .dataframe tbody tr th {\n",
       "        vertical-align: top;\n",
       "    }\n",
       "\n",
       "    .dataframe thead th {\n",
       "        text-align: right;\n",
       "    }\n",
       "</style>\n",
       "<table border=\"1\" class=\"dataframe\">\n",
       "  <thead>\n",
       "    <tr style=\"text-align: right;\">\n",
       "      <th></th>\n",
       "      <th>country</th>\n",
       "      <th>capital</th>\n",
       "    </tr>\n",
       "  </thead>\n",
       "  <tbody>\n",
       "    <tr>\n",
       "      <th>KR</th>\n",
       "      <td>Korea</td>\n",
       "      <td>Seoul</td>\n",
       "    </tr>\n",
       "    <tr>\n",
       "      <th>JPN</th>\n",
       "      <td>Japan</td>\n",
       "      <td>Tokyo</td>\n",
       "    </tr>\n",
       "    <tr>\n",
       "      <th>CHN</th>\n",
       "      <td>China</td>\n",
       "      <td>Shanghai</td>\n",
       "    </tr>\n",
       "    <tr>\n",
       "      <th>TP</th>\n",
       "      <td>Taiwan</td>\n",
       "      <td>Taipei</td>\n",
       "    </tr>\n",
       "  </tbody>\n",
       "</table>\n",
       "</div>"
      ],
      "text/plain": [
       "    country   capital\n",
       "KR    Korea     Seoul\n",
       "JPN   Japan     Tokyo\n",
       "CHN   China  Shanghai\n",
       "TP   Taiwan    Taipei"
      ]
     },
     "execution_count": 21,
     "metadata": {},
     "output_type": "execute_result"
    }
   ],
   "source": [
    "#column access\n",
    "brics['country']\n",
    "#we're dealing with pandas series since series is like 1d array. pasting bunch of series creates dataframe.\n",
    "type(brics['country'])\n",
    "#selecting country column but keep the data in dataframe\n",
    "brics[['country','capital']]\n",
    "#type(brics[['country']]) is pandas dataframe"
   ]
  },
  {
   "cell_type": "markdown",
   "metadata": {},
   "source": [
    "In pandas, iloc is used for integer position based and loc is label based system to make row, column access. data.loc/iloc[[row],[column]]\n"
   ]
  },
  {
   "cell_type": "code",
   "execution_count": 23,
   "metadata": {},
   "outputs": [
    {
     "data": {
      "text/html": [
       "<div>\n",
       "<style scoped>\n",
       "    .dataframe tbody tr th:only-of-type {\n",
       "        vertical-align: middle;\n",
       "    }\n",
       "\n",
       "    .dataframe tbody tr th {\n",
       "        vertical-align: top;\n",
       "    }\n",
       "\n",
       "    .dataframe thead th {\n",
       "        text-align: right;\n",
       "    }\n",
       "</style>\n",
       "<table border=\"1\" class=\"dataframe\">\n",
       "  <thead>\n",
       "    <tr style=\"text-align: right;\">\n",
       "      <th></th>\n",
       "      <th>country</th>\n",
       "      <th>capital</th>\n",
       "    </tr>\n",
       "  </thead>\n",
       "  <tbody>\n",
       "    <tr>\n",
       "      <th>KR</th>\n",
       "      <td>Korea</td>\n",
       "      <td>Seoul</td>\n",
       "    </tr>\n",
       "    <tr>\n",
       "      <th>JPN</th>\n",
       "      <td>Japan</td>\n",
       "      <td>Tokyo</td>\n",
       "    </tr>\n",
       "    <tr>\n",
       "      <th>CHN</th>\n",
       "      <td>China</td>\n",
       "      <td>Shanghai</td>\n",
       "    </tr>\n",
       "    <tr>\n",
       "      <th>TP</th>\n",
       "      <td>Taiwan</td>\n",
       "      <td>Taipei</td>\n",
       "    </tr>\n",
       "  </tbody>\n",
       "</table>\n",
       "</div>"
      ],
      "text/plain": [
       "    country   capital\n",
       "KR    Korea     Seoul\n",
       "JPN   Japan     Tokyo\n",
       "CHN   China  Shanghai\n",
       "TP   Taiwan    Taipei"
      ]
     },
     "execution_count": 23,
     "metadata": {},
     "output_type": "execute_result"
    }
   ],
   "source": [
    "#row access\n",
    "brics[0:2]\n",
    "brics.loc['KR'] #series selecting row\n",
    "brics.loc[:,'country'] #series selecting column\n",
    "brics.loc[['KR', 'CHN'], ['country', 'capital']] #dataframe\n",
    "brics.loc[:, ['country', 'capital']]"
   ]
  },
  {
   "cell_type": "code",
   "execution_count": 25,
   "metadata": {},
   "outputs": [
    {
     "data": {
      "text/html": [
       "<div>\n",
       "<style scoped>\n",
       "    .dataframe tbody tr th:only-of-type {\n",
       "        vertical-align: middle;\n",
       "    }\n",
       "\n",
       "    .dataframe tbody tr th {\n",
       "        vertical-align: top;\n",
       "    }\n",
       "\n",
       "    .dataframe thead th {\n",
       "        text-align: right;\n",
       "    }\n",
       "</style>\n",
       "<table border=\"1\" class=\"dataframe\">\n",
       "  <thead>\n",
       "    <tr style=\"text-align: right;\">\n",
       "      <th></th>\n",
       "      <th>country</th>\n",
       "      <th>capital</th>\n",
       "      <th>area</th>\n",
       "      <th>population</th>\n",
       "    </tr>\n",
       "  </thead>\n",
       "  <tbody>\n",
       "    <tr>\n",
       "      <th>KR</th>\n",
       "      <td>Korea</td>\n",
       "      <td>Seoul</td>\n",
       "      <td>1</td>\n",
       "      <td>10</td>\n",
       "    </tr>\n",
       "    <tr>\n",
       "      <th>CHN</th>\n",
       "      <td>China</td>\n",
       "      <td>Shanghai</td>\n",
       "      <td>3</td>\n",
       "      <td>60</td>\n",
       "    </tr>\n",
       "  </tbody>\n",
       "</table>\n",
       "</div>"
      ],
      "text/plain": [
       "    country   capital  area  population\n",
       "KR    Korea     Seoul     1          10\n",
       "CHN   China  Shanghai     3          60"
      ]
     },
     "execution_count": 25,
     "metadata": {},
     "output_type": "execute_result"
    }
   ],
   "source": [
    "#using iloc\n",
    "#brics.iloc[0]\n",
    "brics.iloc[[0,2],:]\n",
    "#brics.iloc[[0,1], [0,1]]"
   ]
  },
  {
   "cell_type": "markdown",
   "metadata": {},
   "source": [
    "## Logics\n",
    "\n",
    "comparison can be made between same or similar data type. Strings compared on alphabetical order. carl comes before chris. So carl would be having smaller value. Boolean and number works. True is 1, False is 0. using numpy, we can do elemental comparison.\n",
    "\n",
    "Numerical operators include: ==, !=, <, <=, >, >=\n",
    "Boolean operators include: and, or, not\n",
    "\n",
    "### Numpy array boolean operator\n",
    "simply using and, or, not does not work. So we have to use np.logical_and(), np.logical_or(), np.logical_not() from numpy library.\n"
   ]
  },
  {
   "cell_type": "code",
   "execution_count": 27,
   "metadata": {},
   "outputs": [
    {
     "name": "stdout",
     "output_type": "stream",
     "text": [
      "True\n"
     ]
    }
   ],
   "source": [
    "#carl vs chris\n",
    "print(\"carl\" < \"chris\") #prints true\n"
   ]
  },
  {
   "cell_type": "code",
   "execution_count": 29,
   "metadata": {},
   "outputs": [
    {
     "name": "stdout",
     "output_type": "stream",
     "text": [
      "[False  True False  True]\n"
     ]
    }
   ],
   "source": [
    "# Create arrays\n",
    "import numpy as np\n",
    "my_house = np.array([18.0, 20.0, 10.75, 9.50])\n",
    "your_house = np.array([14.0, 24.0, 14.25, 9.0])\n",
    "\n",
    "# my_house greater than 18.5 or smaller than 10\n",
    "print(np.logical_or(my_house > 18.5, my_house < 10))\n"
   ]
  },
  {
   "cell_type": "code",
   "execution_count": 30,
   "metadata": {},
   "outputs": [
    {
     "name": "stdout",
     "output_type": "stream",
     "text": [
      "[False False False  True]\n"
     ]
    }
   ],
   "source": [
    "# Both my_house and your_house smaller than 11\n",
    "print(np.logical_and(my_house < 11, your_house < 11))"
   ]
  },
  {
   "cell_type": "markdown",
   "metadata": {},
   "source": [
    "## Conditional Statement\n",
    "This where the fun begins. if, elif, else could be used to create a complicated conditional statement. Whenever a condition is true, next line will not execute even if the next line is true as well. Here is the example:"
   ]
  },
  {
   "cell_type": "code",
   "execution_count": 35,
   "metadata": {},
   "outputs": [
    {
     "name": "stdout",
     "output_type": "stream",
     "text": [
      "looking around in the bedroom.\n"
     ]
    }
   ],
   "source": [
    "# Define variables\n",
    "room = \"bed\"\n",
    "area = 14.0\n",
    "\n",
    "# if-elif-else construct for room. First two condition weren't right so it passed on to the else.\n",
    "if room == \"kit\" :\n",
    "    print(\"looking around in the kitchen.\")\n",
    "elif room == \"bed\":\n",
    "    print(\"looking around in the bedroom.\")\n",
    "else :\n",
    "    print(\"looking around elsewhere.\")"
   ]
  },
  {
   "cell_type": "code",
   "execution_count": 36,
   "metadata": {},
   "outputs": [
    {
     "name": "stdout",
     "output_type": "stream",
     "text": [
      "medium size, nice!\n"
     ]
    }
   ],
   "source": [
    "# if-elif-else construct for area\n",
    "# see how second elif was true but didn't print because the conditional statement didn't even get there\n",
    "if area > 15 :\n",
    "    print(\"big place!\")\n",
    "elif area > 10 :\n",
    "    print(\"medium size, nice!\")\n",
    "elif area > 11 :\n",
    "    print(\"this statement is true as well but won't print\")\n",
    "else :\n",
    "    print(\"pretty small.\")"
   ]
  },
  {
   "cell_type": "markdown",
   "metadata": {},
   "source": [
    "# While loop\n",
    "unlike conditional statement, the code will be run over and over again as long as the condition is true."
   ]
  },
  {
   "cell_type": "code",
   "execution_count": 38,
   "metadata": {},
   "outputs": [
    {
     "name": "stdout",
     "output_type": "stream",
     "text": [
      "correcting...\n",
      "7\n",
      "correcting...\n",
      "6\n",
      "correcting...\n",
      "5\n",
      "correcting...\n",
      "4\n",
      "correcting...\n",
      "3\n",
      "correcting...\n",
      "2\n",
      "correcting...\n",
      "1\n",
      "correcting...\n",
      "0\n"
     ]
    }
   ],
   "source": [
    "# Initialize offset\n",
    "offset = 8\n",
    "\n",
    "# Code the while loop\n",
    "while offset != 0 : \n",
    "    print(\"correcting...\")\n",
    "    offset = offset - 1\n",
    "    print(offset)"
   ]
  },
  {
   "cell_type": "code",
   "execution_count": 39,
   "metadata": {},
   "outputs": [
    {
     "name": "stdout",
     "output_type": "stream",
     "text": [
      "correcting...\n",
      "-5\n",
      "correcting...\n",
      "-4\n",
      "correcting...\n",
      "-3\n",
      "correcting...\n",
      "-2\n",
      "correcting...\n",
      "-1\n",
      "correcting...\n",
      "0\n"
     ]
    }
   ],
   "source": [
    "# Initialize offset\n",
    "offset = -6\n",
    "\n",
    "# Code the while loop\n",
    "while offset != 0 :\n",
    "    print(\"correcting...\")\n",
    "    if offset > 0 :\n",
    "      offset = offset-1\n",
    "    else : \n",
    "      offset = offset +1    \n",
    "    print(offset)"
   ]
  },
  {
   "cell_type": "code",
   "execution_count": 41,
   "metadata": {},
   "outputs": [
    {
     "name": "stdout",
     "output_type": "stream",
     "text": [
      "room 0:11.25\n",
      "room 1:18.0\n",
      "room 2:20.0\n",
      "room 3:10.75\n",
      "room 4:9.5\n"
     ]
    }
   ],
   "source": [
    "# enumerate counts index, and area\n",
    "# areas list\n",
    "areas = [11.25, 18.0, 20.0, 10.75, 9.50]\n",
    "\n",
    "# Change for loop to use enumerate() and update print()\n",
    "for index, area in enumerate(areas) :\n",
    "    print(\"room \" + str(index) +\":\" + str(area))\n",
    "    "
   ]
  },
  {
   "cell_type": "code",
   "execution_count": 42,
   "metadata": {},
   "outputs": [
    {
     "name": "stdout",
     "output_type": "stream",
     "text": [
      "the hallway is 11.25 sqm\n",
      "the kitchen is 18.0 sqm\n",
      "the living room is 20.0 sqm\n",
      "the bedroom is 10.75 sqm\n",
      "the bathroom is 9.5 sqm\n"
     ]
    }
   ],
   "source": [
    "# house list of lists\n",
    "house = [[\"hallway\", 11.25], \n",
    "         [\"kitchen\", 18.0], \n",
    "         [\"living room\", 20.0], \n",
    "         [\"bedroom\", 10.75], \n",
    "         [\"bathroom\", 9.50]]\n",
    "         \n",
    "# Build a for loop from scratch\n",
    "for x in house : \n",
    "    print(\"the \" + str(x[0]) + \" is \" + str(x[1]) + \" sqm\")"
   ]
  },
  {
   "cell_type": "markdown",
   "metadata": {},
   "source": [
    "### For loop on dictionaries\n",
    "for k, v in world.item():\n",
    "      print(k + \"--\" + str(v))\n",
    "first variable is key and second variable is value. But the order which it organizes is arbitrary (random)\n",
    "\n",
    "### For loop on Numpy Array\n",
    "for n in np.nditer(meas) : \n",
    "      print(n)\n",
    "\n",
    "you have to use np.nditer to get each elements in 2d array. without it, it will generate each array and that's it. numpy is treated like a list.\n",
    "\n",
    "Dictionaries require methods, and numpy arrays requires function\n"
   ]
  },
  {
   "cell_type": "code",
   "execution_count": 43,
   "metadata": {},
   "outputs": [
    {
     "name": "stdout",
     "output_type": "stream",
     "text": [
      "the capital of spain is madrid\n",
      "the capital of france is paris\n",
      "the capital of germany is berlin\n",
      "the capital of norway is oslo\n",
      "the capital of italy is rome\n",
      "the capital of poland is warsaw\n",
      "the capital of austria is vienna\n"
     ]
    }
   ],
   "source": [
    "# Definition of dictionary\n",
    "europe = {'spain':'madrid', 'france':'paris', 'germany':'berlin',\n",
    "          'norway':'oslo', 'italy':'rome', 'poland':'warsaw', 'austria':'vienna' }\n",
    "          \n",
    "# Iterate over europe\n",
    "for x, y in europe.items():                #items() method takes no parameter, displays list of of dictionary's key value tuple pairs\n",
    "    print(\"the capital of \" + x + \" is \" + y)"
   ]
  },
  {
   "cell_type": "code",
   "execution_count": 45,
   "metadata": {},
   "outputs": [],
   "source": [
    "# Import numpy as np\n",
    "import numpy as np\n",
    "np_height = np.array([1,2,3,4,5,6,7])\n",
    "np_baseball = np.array([np_height,[10,20,30,40,50,60,70]])"
   ]
  },
  {
   "cell_type": "code",
   "execution_count": 46,
   "metadata": {},
   "outputs": [
    {
     "name": "stdout",
     "output_type": "stream",
     "text": [
      "1 inches\n",
      "2 inches\n",
      "3 inches\n",
      "4 inches\n",
      "5 inches\n",
      "6 inches\n",
      "7 inches\n"
     ]
    }
   ],
   "source": [
    "# For loop over np_height\n",
    "for x in np_height :\n",
    "    print(str(x) + \" inches\")"
   ]
  },
  {
   "cell_type": "code",
   "execution_count": 47,
   "metadata": {},
   "outputs": [
    {
     "name": "stdout",
     "output_type": "stream",
     "text": [
      "1\n",
      "2\n",
      "3\n",
      "4\n",
      "5\n",
      "6\n",
      "7\n",
      "10\n",
      "20\n",
      "30\n",
      "40\n",
      "50\n",
      "60\n",
      "70\n"
     ]
    }
   ],
   "source": [
    "# For loop over np_baseball\n",
    "for x in np.nditer(np_baseball):\n",
    "    print(x)"
   ]
  },
  {
   "cell_type": "markdown",
   "metadata": {},
   "source": [
    "## Pandas\n",
    "Iterating over a Pandas DataFrame is typically done with the iterrows() method. Used in a for loop, every observation is iterated over and on every iteration the row label and actual row contents are available:\n",
    "\n",
    "for lab, row in brics.iterrows() :\n",
    "    ..."
   ]
  },
  {
   "cell_type": "code",
   "execution_count": 51,
   "metadata": {},
   "outputs": [
    {
     "name": "stdout",
     "output_type": "stream",
     "text": [
      "  country   capital  area  population  name_length\n",
      "0   Korea     Seoul     1          10          5.0\n",
      "1   Japan     Tokyo     2          20          NaN\n",
      "2   China  Shanghai     3          60          NaN\n",
      "3  Taiwan    Taipei     4          20          NaN\n",
      "  country   capital  area  population  name_length\n",
      "0   Korea     Seoul     1          10          5.0\n",
      "1   Japan     Tokyo     2          20          5.0\n",
      "2   China  Shanghai     3          60          NaN\n",
      "3  Taiwan    Taipei     4          20          NaN\n",
      "  country   capital  area  population  name_length\n",
      "0   Korea     Seoul     1          10          5.0\n",
      "1   Japan     Tokyo     2          20          5.0\n",
      "2   China  Shanghai     3          60          5.0\n",
      "3  Taiwan    Taipei     4          20          NaN\n",
      "  country   capital  area  population  name_length\n",
      "0   Korea     Seoul     1          10          5.0\n",
      "1   Japan     Tokyo     2          20          5.0\n",
      "2   China  Shanghai     3          60          5.0\n",
      "3  Taiwan    Taipei     4          20          6.0\n"
     ]
    }
   ],
   "source": [
    "import pandas as pd\n",
    "dict = {'country':['Korea', 'Japan', 'China', 'Taiwan'],\n",
    "        'capital':['Seoul', 'Tokyo', 'Shanghai', 'Taipei'],\n",
    "        'area':[1, 2, 3, 4],\n",
    "        'population':[10, 20, 60, 20]}\n",
    "brics = pd.DataFrame(dict)\n",
    "\n",
    "for label, row in brics.iterrows() :\n",
    "  brics.loc[label, \"name_length\"] = len(row[\"country\"])\n",
    "  print(brics)\n",
    "  \n",
    "# much simpler way to do it is using apply function for len(): without using for loop\n",
    "brics[\"name_length\"] = brics[\"country\"].apply(len)"
   ]
  },
  {
   "cell_type": "code",
   "execution_count": 52,
   "metadata": {},
   "outputs": [
    {
     "name": "stdout",
     "output_type": "stream",
     "text": [
      "0\n",
      "country        Korea\n",
      "capital        Seoul\n",
      "area               1\n",
      "population        10\n",
      "name_length        5\n",
      "Name: 0, dtype: object\n",
      "1\n",
      "country        Japan\n",
      "capital        Tokyo\n",
      "area               2\n",
      "population        20\n",
      "name_length        5\n",
      "Name: 1, dtype: object\n",
      "2\n",
      "country           China\n",
      "capital        Shanghai\n",
      "area                  3\n",
      "population           60\n",
      "name_length           5\n",
      "Name: 2, dtype: object\n",
      "3\n",
      "country        Taiwan\n",
      "capital        Taipei\n",
      "area                4\n",
      "population         20\n",
      "name_length         6\n",
      "Name: 3, dtype: object\n"
     ]
    }
   ],
   "source": [
    "for label, row in brics.iterrows() : \n",
    "  print(label)\n",
    "  print(row)"
   ]
  },
  {
   "cell_type": "markdown",
   "metadata": {},
   "source": [
    "# Hacker Statistics\n",
    "Random generator is part of a numpy package which can be used through np.random.rand() or np.random.seed(). These are pseudo random variable which generates numbers in same sequence. Starting from set seed of 100, it will generate exact same sequence of numbers. so we can simulate under same consistent running sequence. We can also generate coin using np.random.randint() which is selecting random integers from given value. np.random.randint(0,2) will choose integers from 0 to 1, since two is not included in range function in python.\n",
    "\n",
    "while loop is self explanatory. While certain condition is true, it continues to run. Runtime error could occur if you don't allow the code to terminate by setting stuff like i= i-1 as shown in the case below.\n",
    "\n"
   ]
  },
  {
   "cell_type": "code",
   "execution_count": 54,
   "metadata": {},
   "outputs": [
    {
     "name": "stdout",
     "output_type": "stream",
     "text": [
      "tails\n",
      "tails\n",
      "heads\n",
      "heads\n",
      "tails\n"
     ]
    }
   ],
   "source": [
    "#coin\n",
    "import numpy as np\n",
    "np.random.seed(1)\n",
    "\n",
    "    \n",
    "i = 5    \n",
    "while i != 0 :\n",
    "  coin = np.random.randint(0,2)\n",
    "  if coin == 0 :\n",
    "    print(\"heads\")\n",
    "  if coin == 1 :\n",
    "    print(\"tails\")\n",
    "  i = i-1\n",
    "  \n",
    " \n"
   ]
  },
  {
   "cell_type": "code",
   "execution_count": 57,
   "metadata": {},
   "outputs": [
    {
     "name": "stdout",
     "output_type": "stream",
     "text": [
      "6\n",
      "51\n"
     ]
    }
   ],
   "source": [
    "# empire state building game\n",
    "# Numpy is imported, seed is set\n",
    "\n",
    "# Starting step\n",
    "step = 50\n",
    "\n",
    "# Roll the dice\n",
    "dice = np.random.randint(1,7)\n",
    "\n",
    "# Finish the control construct\n",
    "if dice <= 2 :\n",
    "    step = step - 1\n",
    "elif dice <= 5 and dice >=3 :\n",
    "    step = step + 1\n",
    "else :\n",
    "    step = step + np.random.randint(1,7)\n",
    "\n",
    "# Print out dice and step\n",
    "print(dice)\n",
    "print(step)"
   ]
  },
  {
   "cell_type": "markdown",
   "metadata": {},
   "source": [
    "### Simulating with for loop: \"Random Walk\"\n",
    "with the set seed, we can generate results x times depending on how we set it. using range function: for x in range(10) : we can simulate next codes10 times. First, we would be setting an empty list using: outcomes = []. outcomes.append() would add whatever's inside () to be added to the outcome list.\n",
    "\n",
    "\n",
    "\n",
    "\n"
   ]
  },
  {
   "cell_type": "code",
   "execution_count": 60,
   "metadata": {},
   "outputs": [
    {
     "name": "stdout",
     "output_type": "stream",
     "text": [
      "76\n"
     ]
    }
   ],
   "source": [
    "# Numpy is imported, seed is set\n",
    "\n",
    "# Initialize random_walk\n",
    "random_walk = [0]\n",
    "\n",
    "for x in range(100) :\n",
    "    step = random_walk[-1]\n",
    "    #roll the dice\n",
    "    dice = np.random.randint(1,7)\n",
    "\n",
    "    if dice <= 2:\n",
    "        # Replace below: use max to make sure step can't go below 0\n",
    "        step = max(0, step - 1)\n",
    "    elif dice <= 5:\n",
    "        step = step + 1\n",
    "    else:\n",
    "        step = step + np.random.randint(1,7)\n",
    "\n",
    "    random_walk.append(step)\n",
    "\n",
    "print(random_walk[-1])\n"
   ]
  },
  {
   "cell_type": "code",
   "execution_count": 61,
   "metadata": {},
   "outputs": [
    {
     "data": {
      "image/png": "[encoded data removed]",
      "text/plain": [
       "<Figure size 432x288 with 1 Axes>"
      ]
     },
     "metadata": {
      "needs_background": "light"
     },
     "output_type": "display_data"
    }
   ],
   "source": [
    "# Import matplotlib.pyplot as plt\n",
    "import matplotlib.pyplot as plt\n",
    "\n",
    "# Plot random_walk\n",
    "plt.plot(random_walk)\n",
    "\n",
    "# Show the plot\n",
    "plt.show()"
   ]
  },
  {
   "cell_type": "code",
   "execution_count": 62,
   "metadata": {},
   "outputs": [
    {
     "name": "stdout",
     "output_type": "stream",
     "text": [
      "[[ 0  3  4 ... 58 59 60]\n",
      " [ 0  4  3 ... 70 71 73]\n",
      " [ 0  2  1 ... 85 84 83]\n",
      " ...\n",
      " [ 0  0  1 ... 74 75 76]\n",
      " [ 0  1  0 ... 60 61 60]\n",
      " [ 0  1  2 ... 85 86 87]]\n"
     ]
    },
    {
     "data": {
      "image/png": "[encoded data removed]",
      "text/plain": [
       "<Figure size 432x288 with 1 Axes>"
      ]
     },
     "metadata": {
      "needs_background": "light"
     },
     "output_type": "display_data"
    }
   ],
   "source": [
    "import numpy as np\n",
    "import matplotlib.pyplot as plt\n",
    "# numpy and matplotlib imported, seed set.\n",
    "np.random.seed(123)\n",
    "# initialize and populate all_walks\n",
    "all_walks = []\n",
    "for i in range(10) :\n",
    "    random_walk = [0]\n",
    "    for x in range(100) :\n",
    "        step = random_walk[-1]\n",
    "        dice = np.random.randint(1,7)\n",
    "        if dice <= 2:\n",
    "            step = max(0, step - 1)\n",
    "        elif dice <= 5:\n",
    "            step = step + 1\n",
    "        else:\n",
    "            step = step + np.random.randint(1,7)\n",
    "        random_walk.append(step)\n",
    "    all_walks.append(random_walk)\n",
    "\n",
    "# Convert all_walks to Numpy array: np_aw\n",
    "np_aw = np.array(all_walks)\n",
    "\n",
    "print(np_aw)\n",
    "# Plot np_aw and show\n",
    "\n",
    "# Clear the figure\n",
    "plt.clf()\n",
    "\n",
    "# Transpose np_aw: np_aw_t\n",
    "np_aw_t = np.transpose(np_aw)\n",
    "\n",
    "# Plot np_aw_t and show\n",
    "plt.plot(np_aw_t)\n",
    "plt.show()"
   ]
  },
  {
   "cell_type": "code",
   "execution_count": 63,
   "metadata": {},
   "outputs": [
    {
     "data": {
      "image/png": "[encoded data removed]",
      "text/plain": [
       "<Figure size 432x288 with 1 Axes>"
      ]
     },
     "metadata": {
      "needs_background": "light"
     },
     "output_type": "display_data"
    }
   ],
   "source": [
    "# numpy and matplotlib imported, seed set\n",
    "np.random.seed(123)\n",
    "# Simulate random walk 250 times\n",
    "all_walks = []\n",
    "for i in range(250) :\n",
    "    random_walk = [0]\n",
    "    for x in range(100) :\n",
    "        step = random_walk[-1]\n",
    "        dice = np.random.randint(1,7)\n",
    "        if dice <= 2:\n",
    "            step = max(0, step - 1)\n",
    "        elif dice <= 5:\n",
    "            step = step + 1\n",
    "        else:\n",
    "            step = step + np.random.randint(1,7)\n",
    "\n",
    "        # Implement clumsiness\n",
    "        if np.random.rand() <= 0.001 :\n",
    "            step = 0\n",
    "\n",
    "        random_walk.append(step)\n",
    "    all_walks.append(random_walk)\n",
    "\n",
    "# Create and plot np_aw_t\n",
    "np_aw_t = np.transpose(np.array(all_walks))\n",
    "plt.plot(np_aw_t)\n",
    "plt.show()\n"
   ]
  },
  {
   "cell_type": "code",
   "execution_count": 64,
   "metadata": {},
   "outputs": [
    {
     "data": {
      "image/png": "[encoded data removed]",
      "text/plain": [
       "<Figure size 432x288 with 1 Axes>"
      ]
     },
     "metadata": {
      "needs_background": "light"
     },
     "output_type": "display_data"
    }
   ],
   "source": [
    "# numpy and matplotlib imported, seed set\n",
    "np.random.seed(123)\n",
    "# Simulate random walk 500 times\n",
    "all_walks = []\n",
    "for i in range(500) :\n",
    "    random_walk = [0]\n",
    "    for x in range(100) :\n",
    "        step = random_walk[-1]\n",
    "        dice = np.random.randint(1,7)\n",
    "        if dice <= 2:\n",
    "            step = max(0, step - 1)\n",
    "        elif dice <= 5:\n",
    "            step = step + 1\n",
    "        else:\n",
    "            step = step + np.random.randint(1,7)\n",
    "        if np.random.rand() <= 0.001 :\n",
    "            step = 0\n",
    "        random_walk.append(step)\n",
    "    all_walks.append(random_walk)\n",
    "\n",
    "# Create and plot np_aw_t\n",
    "np_aw_t = np.transpose(np.array(all_walks))\n",
    "\n",
    "# Select last row from np_aw_t: ends\n",
    "ends = np_aw_t[-1,:]\n",
    "\n",
    "# Plot histogram of ends, display plot\n",
    "plt.hist(ends, bins =5)\n",
    "plt.show()"
   ]
  }
 ],
 "metadata": {
  "kernelspec": {
   "display_name": "Python 3",
   "language": "python",
   "name": "python3"
  },
  "language_info": {
   "codemirror_mode": {
    "name": "ipython",
    "version": 3
   },
   "file_extension": ".py",
   "mimetype": "text/x-python",
   "name": "python",
   "nbconvert_exporter": "python",
   "pygments_lexer": "ipython3",
   "version": "3.7.1"
  }
 },
 "nbformat": 4,
 "nbformat_minor": 2
}
